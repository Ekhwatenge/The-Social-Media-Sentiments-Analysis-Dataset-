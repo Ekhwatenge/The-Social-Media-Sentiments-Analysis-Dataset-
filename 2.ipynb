{
 "cells": [
  {
   "cell_type": "code",
   "execution_count": 5,
   "id": "5500fa0f-dbbb-459f-9061-96dbb53a61d8",
   "metadata": {},
   "outputs": [
    {
     "name": "stdout",
     "output_type": "stream",
     "text": [
      "   Unnamed: 0.1  Unnamed: 0  \\\n",
      "0             0           0   \n",
      "1             1           1   \n",
      "2             2           2   \n",
      "3             3           3   \n",
      "4             4           4   \n",
      "\n",
      "                                                Text    Sentiment  \\\n",
      "0   Enjoying a beautiful day at the park!        ...   Positive     \n",
      "1   Traffic was terrible this morning.           ...   Negative     \n",
      "2   Just finished an amazing workout! 💪          ...   Positive     \n",
      "3   Excited about the upcoming weekend getaway!  ...   Positive     \n",
      "4   Trying out a new recipe for dinner tonight.  ...   Neutral      \n",
      "\n",
      "             Timestamp            User     Platform  \\\n",
      "0  2023-01-15 12:30:00   User123          Twitter     \n",
      "1  2023-01-15 08:45:00   CommuterX        Twitter     \n",
      "2  2023-01-15 15:45:00   FitnessFan      Instagram    \n",
      "3  2023-01-15 18:20:00   AdventureX       Facebook    \n",
      "4  2023-01-15 19:55:00   ChefCook        Instagram    \n",
      "\n",
      "                                     Hashtags  Retweets  Likes       Country  \\\n",
      "0   #Nature #Park                                  15.0   30.0     USA         \n",
      "1   #Traffic #Morning                               5.0   10.0     Canada      \n",
      "2   #Fitness #Workout                              20.0   40.0   USA           \n",
      "3   #Travel #Adventure                              8.0   15.0     UK          \n",
      "4   #Cooking #Food                                 12.0   25.0    Australia    \n",
      "\n",
      "   Year  Month  Day  Hour  \n",
      "0  2023      1   15    12  \n",
      "1  2023      1   15     8  \n",
      "2  2023      1   15    15  \n",
      "3  2023      1   15    18  \n",
      "4  2023      1   15    19  \n"
     ]
    }
   ],
   "source": [
    "import pandas as pd\n",
    "import matplotlib.pyplot as plt\n",
    "import seaborn as sns\n",
    "\n",
    "# Load the dataset\n",
    "df = pd.read_csv('sentimentdataset.csv')\n",
    "# Display the first few rows of the dataset\n",
    "print(df.head())\n"
   ]
  },
  {
   "cell_type": "code",
   "execution_count": 4,
   "id": "f009946b-6d8d-4a05-8c2e-1b7401f5c881",
   "metadata": {},
   "outputs": [
    {
     "name": "stdout",
     "output_type": "stream",
     "text": [
      "Error: No data to plot. Check your sentiment mapping.\n"
     ]
    }
   ],
   "source": [
    "# Step 1: Map individual sentiments to broader themes\n",
    "theme_mapping = {\n",
    "    'Positive': 'Positive',\n",
    "    'Happiness': 'Positive',\n",
    "    'Joy': 'Positive',\n",
    "    'Love': 'Positive',\n",
    "    'Admiration': 'Positive',\n",
    "    'Affection': 'Positive',\n",
    "    'Amusement': 'Positive',\n",
    "    'Enjoyment': 'Positive',\n",
    "    'Adoration': 'Positive',\n",
    "    'Anticipation': 'Mixed',\n",
    "    'Surprise': 'Mixed',\n",
    "    'Acceptance': 'Mixed',\n",
    "    'Calmness': 'Neutral',\n",
    "    'Neutral': 'Neutral',\n",
    "    'Confusion': 'Negative',\n",
    "    'Sadness': 'Negative',\n",
    "    'Fear': 'Negative',\n",
    "    'Anger': 'Negative',\n",
    "    'Disgust': 'Negative',\n",
    "    'Shame': 'Negative',\n",
    "    'Bitter': 'Negative',\n",
    "    'Disappointed': 'Negative'\n",
    "}\n",
    "\n",
    "df['Theme'] = df['Sentiment'].map(theme_mapping)\n",
    "\n",
    "# Step 2: Aggregate data by themes\n",
    "theme_counts = df['Theme'].value_counts().reset_index()\n",
    "theme_counts.columns = ['Theme', 'Count']\n",
    "\n",
    "# Debugging: Check for empty data\n",
    "if theme_counts.empty:\n",
    "    print(\"Error: No data to plot. Check your sentiment mapping.\")\n",
    "else:\n",
    "    # Step 3: Visualize the themes (Bar Chart)\n",
    "    plt.figure(figsize=(8, 6))\n",
    "    sns.barplot(data=theme_counts, x='Theme', y='Count', palette='muted')\n",
    "    plt.title('Distribution of Sentiment Themes', fontsize=16)\n",
    "    plt.xlabel('Theme', fontsize=12)\n",
    "    plt.ylabel('Count', fontsize=12)\n",
    "    plt.savefig('sentiment_themes_distribution.png')  # Save the plot\n",
    "    plt.show()\n",
    "\n",
    "    # Step 4: Alternative Visualization (Pie Chart)\n",
    "    plt.figure(figsize=(8, 6))\n",
    "    colors = sns.color_palette('pastel')[0:len(theme_counts)]\n",
    "    plt.pie(theme_counts['Count'], labels=theme_counts['Theme'], colors=colors, autopct='%1.1f%%', startangle=90)\n",
    "    plt.title('Sentiment Themes Distribution (Pie Chart)', fontsize=16)\n",
    "    plt.savefig('sentiment_themes_pie_chart.png')  # Save the plot\n",
    "    plt.show()\n"
   ]
  },
  {
   "cell_type": "code",
   "execution_count": null,
   "id": "81ab654f-a236-4948-9d54-a16570ee6390",
   "metadata": {},
   "outputs": [],
   "source": []
  }
 ],
 "metadata": {
  "kernelspec": {
   "display_name": "Python 3 (ipykernel)",
   "language": "python",
   "name": "python3"
  },
  "language_info": {
   "codemirror_mode": {
    "name": "ipython",
    "version": 3
   },
   "file_extension": ".py",
   "mimetype": "text/x-python",
   "name": "python",
   "nbconvert_exporter": "python",
   "pygments_lexer": "ipython3",
   "version": "3.11.7"
  }
 },
 "nbformat": 4,
 "nbformat_minor": 5
}
